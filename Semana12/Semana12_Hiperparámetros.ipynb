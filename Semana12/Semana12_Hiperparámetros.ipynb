{
  "nbformat": 4,
  "nbformat_minor": 0,
  "metadata": {
    "colab": {
      "provenance": []
    },
    "kernelspec": {
      "name": "python3",
      "display_name": "Python 3"
    },
    "language_info": {
      "name": "python"
    }
  },
  "cells": [
    {
      "cell_type": "markdown",
      "source": [
        "\n",
        "\n",
        "*   Desarrollar un modelo para clasificación de calidad en limones\n",
        "*   Realizar una correcta partición de datos y extracción de características\n",
        "*   Realizar una optimización de hiperparámetros o búsqueda de algoritmo\n",
        "\n",
        "\n",
        "\n",
        "\n",
        "\n",
        "\n",
        "\n"
      ],
      "metadata": {
        "id": "YIYk3nqPMEUA"
      }
    },
    {
      "cell_type": "code",
      "source": [
        "!pip install tensorflow"
      ],
      "metadata": {
        "colab": {
          "base_uri": "https://localhost:8080/"
        },
        "collapsed": true,
        "id": "T3uD-IY-Do_T",
        "outputId": "fa0b7a55-f770-4284-ec37-14c8af3103be"
      },
      "execution_count": 2,
      "outputs": [
        {
          "output_type": "stream",
          "name": "stdout",
          "text": [
            "Requirement already satisfied: tensorflow in /usr/local/lib/python3.10/dist-packages (2.17.0)\n",
            "Requirement already satisfied: h5py>=3.10.0 in /usr/local/lib/python3.10/dist-packages (from tensorflow) (3.12.1)\n",
            "Requirement already satisfied: packaging in /usr/local/lib/python3.10/dist-packages (from tensorflow) (24.1)\n",
            "Requirement already satisfied: tensorflow-io-gcs-filesystem>=0.23.1 in /usr/local/lib/python3.10/dist-packages (from tensorflow) (0.37.1)\n",
            "Requirement already satisfied: ml-dtypes<0.5.0,>=0.3.1 in /usr/local/lib/python3.10/dist-packages (from tensorflow) (0.4.1)\n",
            "Requirement already satisfied: setuptools in /usr/local/lib/python3.10/dist-packages (from tensorflow) (75.1.0)\n",
            "Requirement already satisfied: six>=1.12.0 in /usr/local/lib/python3.10/dist-packages (from tensorflow) (1.16.0)\n",
            "Requirement already satisfied: termcolor>=1.1.0 in /usr/local/lib/python3.10/dist-packages (from tensorflow) (2.5.0)\n",
            "Requirement already satisfied: keras>=3.2.0 in /usr/local/lib/python3.10/dist-packages (from tensorflow) (3.4.1)\n",
            "Requirement already satisfied: gast!=0.5.0,!=0.5.1,!=0.5.2,>=0.2.1 in /usr/local/lib/python3.10/dist-packages (from tensorflow) (0.6.0)\n",
            "Requirement already satisfied: flatbuffers>=24.3.25 in /usr/local/lib/python3.10/dist-packages (from tensorflow) (24.3.25)\n",
            "Requirement already satisfied: astunparse>=1.6.0 in /usr/local/lib/python3.10/dist-packages (from tensorflow) (1.6.3)\n",
            "Requirement already satisfied: typing-extensions>=3.6.6 in /usr/local/lib/python3.10/dist-packages (from tensorflow) (4.12.2)\n",
            "Requirement already satisfied: wrapt>=1.11.0 in /usr/local/lib/python3.10/dist-packages (from tensorflow) (1.16.0)\n",
            "Requirement already satisfied: tensorboard<2.18,>=2.17 in /usr/local/lib/python3.10/dist-packages (from tensorflow) (2.17.0)\n",
            "Requirement already satisfied: numpy<2.0.0,>=1.23.5 in /usr/local/lib/python3.10/dist-packages (from tensorflow) (1.26.4)\n",
            "Requirement already satisfied: google-pasta>=0.1.1 in /usr/local/lib/python3.10/dist-packages (from tensorflow) (0.2.0)\n",
            "Requirement already satisfied: libclang>=13.0.0 in /usr/local/lib/python3.10/dist-packages (from tensorflow) (18.1.1)\n",
            "Requirement already satisfied: protobuf!=4.21.0,!=4.21.1,!=4.21.2,!=4.21.3,!=4.21.4,!=4.21.5,<5.0.0dev,>=3.20.3 in /usr/local/lib/python3.10/dist-packages (from tensorflow) (3.20.3)\n",
            "Requirement already satisfied: requests<3,>=2.21.0 in /usr/local/lib/python3.10/dist-packages (from tensorflow) (2.32.3)\n",
            "Requirement already satisfied: grpcio<2.0,>=1.24.3 in /usr/local/lib/python3.10/dist-packages (from tensorflow) (1.64.1)\n",
            "Requirement already satisfied: opt-einsum>=2.3.2 in /usr/local/lib/python3.10/dist-packages (from tensorflow) (3.4.0)\n",
            "Requirement already satisfied: absl-py>=1.0.0 in /usr/local/lib/python3.10/dist-packages (from tensorflow) (1.4.0)\n",
            "Requirement already satisfied: wheel<1.0,>=0.23.0 in /usr/local/lib/python3.10/dist-packages (from astunparse>=1.6.0->tensorflow) (0.44.0)\n",
            "Requirement already satisfied: optree in /usr/local/lib/python3.10/dist-packages (from keras>=3.2.0->tensorflow) (0.13.0)\n",
            "Requirement already satisfied: rich in /usr/local/lib/python3.10/dist-packages (from keras>=3.2.0->tensorflow) (13.9.3)\n",
            "Requirement already satisfied: namex in /usr/local/lib/python3.10/dist-packages (from keras>=3.2.0->tensorflow) (0.0.8)\n",
            "Requirement already satisfied: urllib3<3,>=1.21.1 in /usr/local/lib/python3.10/dist-packages (from requests<3,>=2.21.0->tensorflow) (2.2.3)\n",
            "Requirement already satisfied: certifi>=2017.4.17 in /usr/local/lib/python3.10/dist-packages (from requests<3,>=2.21.0->tensorflow) (2024.8.30)\n",
            "Requirement already satisfied: charset-normalizer<4,>=2 in /usr/local/lib/python3.10/dist-packages (from requests<3,>=2.21.0->tensorflow) (3.4.0)\n",
            "Requirement already satisfied: idna<4,>=2.5 in /usr/local/lib/python3.10/dist-packages (from requests<3,>=2.21.0->tensorflow) (3.10)\n",
            "Requirement already satisfied: werkzeug>=1.0.1 in /usr/local/lib/python3.10/dist-packages (from tensorboard<2.18,>=2.17->tensorflow) (3.0.6)\n",
            "Requirement already satisfied: markdown>=2.6.8 in /usr/local/lib/python3.10/dist-packages (from tensorboard<2.18,>=2.17->tensorflow) (3.7)\n",
            "Requirement already satisfied: tensorboard-data-server<0.8.0,>=0.7.0 in /usr/local/lib/python3.10/dist-packages (from tensorboard<2.18,>=2.17->tensorflow) (0.7.2)\n",
            "Requirement already satisfied: MarkupSafe>=2.1.1 in /usr/local/lib/python3.10/dist-packages (from werkzeug>=1.0.1->tensorboard<2.18,>=2.17->tensorflow) (3.0.2)\n",
            "Requirement already satisfied: pygments<3.0.0,>=2.13.0 in /usr/local/lib/python3.10/dist-packages (from rich->keras>=3.2.0->tensorflow) (2.18.0)\n",
            "Requirement already satisfied: markdown-it-py>=2.2.0 in /usr/local/lib/python3.10/dist-packages (from rich->keras>=3.2.0->tensorflow) (3.0.0)\n",
            "Requirement already satisfied: mdurl~=0.1 in /usr/local/lib/python3.10/dist-packages (from markdown-it-py>=2.2.0->rich->keras>=3.2.0->tensorflow) (0.1.2)\n"
          ]
        }
      ]
    },
    {
      "cell_type": "code",
      "execution_count": 10,
      "metadata": {
        "id": "MCZpNmKEVR3G"
      },
      "outputs": [],
      "source": [
        "# Se importan las librerías necesarias\n",
        "import os\n",
        "import shutil\n",
        "import numpy as np\n",
        "import cv2\n",
        "from skimage.feature import hog, local_binary_pattern\n",
        "from sklearn.model_selection import train_test_split\n",
        "from sklearn.preprocessing import StandardScaler\n",
        "from tensorflow.keras import layers, models\n",
        "import keras_tuner as kt\n",
        "from sklearn.metrics import confusion_matrix, classification_report\n",
        "import seaborn as sns\n",
        "import matplotlib.pyplot as plt"
      ]
    },
    {
      "cell_type": "code",
      "source": [
        "# Ruta a las imagenes\n",
        "data_dir = \"/content/drive/MyDrive/ComputerVision/Ejercicios/Semana12/Lemon_quality/\"\n",
        "san_dir = os.path.join(data_dir, 'good_quality/')\n",
        "enf_dir = os.path.join(data_dir, 'bad_quality/')\n",
        "\n",
        "# Obtiene listas de imágenes\n",
        "san_imagenes = [os.path.join(san_dir, img) for img in os.listdir(san_dir)]\n",
        "enf_imagenes = [os.path.join(enf_dir, img) for img in os.listdir(enf_dir)]\n",
        "\n",
        "# Crea etiquetas (0 para sanas, 1 para enfermas)\n",
        "san_etiquetas = [0] * len(san_imagenes)\n",
        "enf_etiquetas = [1] * len(enf_imagenes)\n",
        "\n",
        "imagenes = np.array(san_imagenes + enf_imagenes)\n",
        "etiquetas = np.array(san_etiquetas + enf_etiquetas)\n",
        "\n",
        "# Divide los datos en entrenamiento, validación y prueba (70% - 15% - 15%)\n",
        "X_train, X_temp, y_train, y_temp = train_test_split(imagenes, etiquetas, test_size=0.3, stratify=etiquetas)\n",
        "X_val, X_test, y_val, y_test = train_test_split(X_temp, y_temp, test_size=0.5, stratify=y_temp)"
      ],
      "metadata": {
        "id": "OkZDHrCBEg1q"
      },
      "execution_count": 11,
      "outputs": []
    },
    {
      "cell_type": "code",
      "source": [
        "# Función para normalizar una característica\n",
        "def normalize_features(features):\n",
        "    scaler = StandardScaler()\n",
        "    return scaler.fit_transform(features.reshape(-1, 1)).flatten()\n",
        "\n",
        "# Función para asegurar que las imágenes tengan el mismo tamaño antes de extraer características\n",
        "def preprocess_image(image_path, target_size=(128, 128)):\n",
        "    image = cv2.imread(image_path)\n",
        "    resized_image = cv2.resize(image, target_size)  # Redimensionamos a tamaño fijo\n",
        "    return resized_image\n"
      ],
      "metadata": {
        "id": "414lIccvOCET"
      },
      "execution_count": 12,
      "outputs": []
    },
    {
      "cell_type": "code",
      "source": [
        "# Función para extraer características de la imagen\n",
        "def extract_features(image_path):\n",
        "    image = preprocess_image(image_path)\n",
        "    gray = cv2.cvtColor(image, cv2.COLOR_BGR2GRAY)\n",
        "\n",
        "    # Umbralización\n",
        "    _, thresh = cv2.threshold(gray, 128, 255, cv2.THRESH_BINARY)\n",
        "\n",
        "    # Equalización de histograma\n",
        "    equalized = cv2.equalizeHist(gray)\n",
        "\n",
        "    # Operaciones morfológicas\n",
        "    kernel = np.ones((5, 5), np.uint8)\n",
        "    morph = cv2.morphologyEx(equalized, cv2.MORPH_OPEN, kernel)\n",
        "\n",
        "    # HOG (ahora solo se obtiene un valor, sin visualizar)\n",
        "    hog_features = hog(morph, orientations=9, pixels_per_cell=(8, 8),\n",
        "                       cells_per_block=(2, 2), block_norm='L2-Hys', visualize=False)\n",
        "    hog_features = normalize_features(hog_features)\n",
        "\n",
        "    # Histograma de intensidades\n",
        "    hist = cv2.calcHist([morph], [0], None, [256], [0, 256]).flatten()\n",
        "    hist = normalize_features(hist)\n",
        "\n",
        "    # LBP\n",
        "    lbp = local_binary_pattern(morph, P=8, R=1, method=\"uniform\")\n",
        "    lbp_hist, _ = np.histogram(lbp, bins=np.arange(0, 59), range=(0, 58))\n",
        "    lbp_hist = normalize_features(lbp_hist)\n",
        "\n",
        "    # Momentos de Hu\n",
        "    moments = cv2.moments(thresh)\n",
        "    hu_moments = cv2.HuMoments(moments).flatten()\n",
        "    hu_moments = normalize_features(hu_moments)\n",
        "\n",
        "    # Concatenar todas las características\n",
        "    features = np.hstack([hog_features, hist, lbp_hist, hu_moments])\n",
        "\n",
        "    return features\n",
        "\n",
        "# Extraemos características de las imágenes del dataset dividido\n",
        "X_train_features = np.array([extract_features(img) for img in X_train])\n",
        "X_val_features = np.array([extract_features(img) for img in X_val])\n",
        "X_test_features = np.array([extract_features(img) for img in X_test])\n",
        "\n",
        "print(f\"Tamaño de las características (X_train): {X_train_features.shape}\")\n",
        "print(f\"Tamaño de las características (X_val): {X_val_features.shape}\")\n",
        "print(f\"Tamaño de las características (X_test): {X_test_features.shape}\")"
      ],
      "metadata": {
        "colab": {
          "base_uri": "https://localhost:8080/"
        },
        "id": "jXhM2ZFEO1de",
        "outputId": "2678dc4e-eac2-4a10-ffa0-308dd4630ca5"
      },
      "execution_count": 14,
      "outputs": [
        {
          "output_type": "stream",
          "name": "stdout",
          "text": [
            "Tamaño de las características (X_train): (1453, 8421)\n",
            "Tamaño de las características (X_val): (311, 8421)\n",
            "Tamaño de las características (X_test): (312, 8421)\n"
          ]
        }
      ]
    },
    {
      "cell_type": "code",
      "source": [
        "# Escala los datos\n",
        "scaler = StandardScaler()\n",
        "X_train_features = scaler.fit_transform(X_train_features)\n",
        "X_val_features = scaler.transform(X_val_features)\n",
        "X_test_features = scaler.transform(X_test_features)"
      ],
      "metadata": {
        "id": "hMe2-2i8G6rW"
      },
      "execution_count": 15,
      "outputs": []
    },
    {
      "cell_type": "code",
      "source": [
        "# Define el modelo con KerasTuner para optimizar hiperparámetros\n",
        "def build_model(hp):\n",
        "    model = models.Sequential()\n",
        "\n",
        "    hp_units = hp.Int('units', min_value=32, max_value=512, step=32)\n",
        "    model.add(layers.Dense(units=hp_units, activation='relu', input_shape=(X_train_features.shape[1],)))\n",
        "\n",
        "    model.add(layers.Dense(1, activation='sigmoid'))  # Para clasificación binaria\n",
        "\n",
        "    # Compila el modelo\n",
        "    model.compile(optimizer='adam',\n",
        "                  loss='binary_crossentropy',\n",
        "                  metrics=['accuracy'])\n",
        "\n",
        "    return model\n",
        "\n",
        "# Configuración del tuner\n",
        "tuner = kt.Hyperband(build_model,\n",
        "                     objective='val_accuracy',\n",
        "                     max_epochs=10,\n",
        "                     factor=3,\n",
        "                     directory='my_dir',\n",
        "                     project_name='lemon_quality_optimization')"
      ],
      "metadata": {
        "colab": {
          "base_uri": "https://localhost:8080/"
        },
        "id": "B_2xAg_PG9jZ",
        "outputId": "17b4f96d-f8d0-4136-968c-b060b2de125e"
      },
      "execution_count": 16,
      "outputs": [
        {
          "output_type": "stream",
          "name": "stderr",
          "text": [
            "/usr/local/lib/python3.10/dist-packages/keras/src/layers/core/dense.py:87: UserWarning: Do not pass an `input_shape`/`input_dim` argument to a layer. When using Sequential models, prefer using an `Input(shape)` object as the first layer in the model instead.\n",
            "  super().__init__(activity_regularizer=activity_regularizer, **kwargs)\n"
          ]
        }
      ]
    },
    {
      "cell_type": "code",
      "source": [
        "# Búsqueda de hiperparámetros\n",
        "tuner.search(X_train_features, y_train, epochs=10, validation_data=(X_val_features, y_val))\n",
        "\n",
        "# Obtiene el mejor modelo\n",
        "best_model = tuner.get_best_models(num_models=1)[0]\n",
        "\n",
        "# Evalua el mejor modelo en el conjunto de prueba\n",
        "best_model.evaluate(X_test_features, y_test)\n",
        "\n",
        "# Hace predicciones\n",
        "y_pred = (best_model.predict(X_test_features) > 0.5).astype(\"int32\")"
      ],
      "metadata": {
        "colab": {
          "base_uri": "https://localhost:8080/"
        },
        "id": "wOUSQvggHDe3",
        "outputId": "2956cdac-0fcb-48c3-8d55-70e97d9d6f7b"
      },
      "execution_count": 17,
      "outputs": [
        {
          "output_type": "stream",
          "name": "stdout",
          "text": [
            "Trial 21 Complete [00h 00m 06s]\n",
            "val_accuracy: 0.9324758648872375\n",
            "\n",
            "Best val_accuracy So Far: 0.9421221613883972\n",
            "Total elapsed time: 00h 02m 42s\n",
            "\u001b[1m10/10\u001b[0m \u001b[32m━━━━━━━━━━━━━━━━━━━━\u001b[0m\u001b[37m\u001b[0m \u001b[1m0s\u001b[0m 3ms/step - accuracy: 0.9187 - loss: 0.2878  \n",
            "\u001b[1m10/10\u001b[0m \u001b[32m━━━━━━━━━━━━━━━━━━━━\u001b[0m\u001b[37m\u001b[0m \u001b[1m0s\u001b[0m 6ms/step \n"
          ]
        }
      ]
    },
    {
      "cell_type": "code",
      "source": [
        "# Matriz de confusión\n",
        "conf_matrix = confusion_matrix(y_test, y_pred)\n",
        "\n",
        "plt.figure(figsize=(6,4))\n",
        "sns.heatmap(conf_matrix, annot=True, fmt=\"d\", cmap=\"Blues\")\n",
        "plt.title(\"Matriz de Confusión\")\n",
        "plt.ylabel('Actual')\n",
        "plt.xlabel('Predicción')\n",
        "plt.show()\n",
        "\n",
        "# Métricas de clasificación\n",
        "print(classification_report(y_test, y_pred))"
      ],
      "metadata": {
        "colab": {
          "base_uri": "https://localhost:8080/",
          "height": 566
        },
        "id": "_oRF5ZEFHHUc",
        "outputId": "ff0f7cb1-1e06-46e3-b81f-07b92c0bcb34"
      },
      "execution_count": 18,
      "outputs": [
        {
          "output_type": "display_data",
          "data": {
            "text/plain": [
              "<Figure size 600x400 with 2 Axes>"
            ],
            "image/png": "[encoded data removed]"
          },
          "metadata": {}
        },
        {
          "output_type": "stream",
          "name": "stdout",
          "text": [
            "              precision    recall  f1-score   support\n",
            "\n",
            "           0       0.94      0.91      0.92       169\n",
            "           1       0.89      0.93      0.91       143\n",
            "\n",
            "    accuracy                           0.92       312\n",
            "   macro avg       0.92      0.92      0.92       312\n",
            "weighted avg       0.92      0.92      0.92       312\n",
            "\n"
          ]
        }
      ]
    }
  ]
}